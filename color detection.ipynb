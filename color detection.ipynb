{
 "cells": [
  {
   "cell_type": "code",
   "execution_count": null,
   "id": "cd747314",
   "metadata": {},
   "outputs": [],
   "source": [
    "import cv2 #used for image processing\n",
    "import pandas as pd"
   ]
  },
  {
   "cell_type": "code",
   "execution_count": null,
   "id": "ee64cfb8",
   "metadata": {},
   "outputs": [],
   "source": [
    "image = cv2.imread('C:\\\\Users\\\\kumud\\\\Documents\\\\certificates\\\\images (12).jpeg')\n",
    "print(image)"
   ]
  },
  {
   "cell_type": "code",
   "execution_count": null,
   "id": "954277eb",
   "metadata": {},
   "outputs": [],
   "source": [
    "mouse_click = False\n",
    "r = g = b = xpos = ypos = 0"
   ]
  },
  {
   "cell_type": "code",
   "execution_count": null,
   "id": "2f3abb48",
   "metadata": {},
   "outputs": [],
   "source": [
    "#Read the color dataset\n",
    "index = ['color', 'color_name', 'hex', 'R', 'G', 'B']\n",
    "data = pd.read_csv('colors.csv', names = index, header = None)\n",
    "data.head()"
   ]
  },
  {
   "cell_type": "code",
   "execution_count": null,
   "id": "cd406bf1",
   "metadata": {},
   "outputs": [],
   "source": [
    "data.shape"
   ]
  },
  {
   "cell_type": "code",
   "execution_count": null,
   "id": "49819224",
   "metadata": {},
   "outputs": [],
   "source": [
    "#Displaying text on the image\n",
    "\n",
    "text = \"Right Double Click to display corresponding image coordinates in dataset\"\n",
    "coordinates = (300,600)\n",
    "font = cv2.FONT_ITALIC\n",
    "fontScale = 0.5\n",
    "color = (255,255,255)\n",
    "thickness = 1\n",
    "image = cv2.putText(image, text, coordinates, font, fontScale, color, thickness, cv2.LINE_AA)"
   ]
  },
  {
   "cell_type": "code",
   "execution_count": null,
   "id": "a6ed9041",
   "metadata": {},
   "outputs": [],
   "source": [
    "#function to calculate minimum distance from all colors and get the most matching color\n",
    "def getColorName(R,G,B):\n",
    "    minimum = 10000\n",
    "    for i in range(len(data)):\n",
    "        d = abs(R- int(data.loc[i,\"R\"])) + abs(G- int(data.loc[i,\"G\"]))+ abs(B- int(data.loc[i,\"B\"]))\n",
    "        if(d<=minimum):\n",
    "            minimum = d\n",
    "            cname = data.loc[i,\"color_name\"]\n",
    "    return cname"
   ]
  },
  {
   "cell_type": "code",
   "execution_count": null,
   "id": "9699d200",
   "metadata": {},
   "outputs": [],
   "source": [
    "#function to get x,y coordinates of mouse double click\n",
    "\n",
    "def draw_function(event, x,y,flags,param):\n",
    "    if event == cv2.EVENT_LBUTTONDBLCLK:\n",
    "        global b,g,r,xpos,ypos, mouse_click\n",
    "        mouse_click = True\n",
    "        xpos = x\n",
    "        ypos = y\n",
    "        b,g,r = image[y,x]\n",
    "        b = int(b)\n",
    "        g = int(g)\n",
    "        r = int(r)\n",
    "    elif event==cv2.EVENT_RBUTTONDBLCLK:\n",
    "         # displaying the nearest coordinates from the dataset on the image window\n",
    "        font = cv2.FONT_HERSHEY_SIMPLEX\n",
    "        t = getColorName(r,g,b)\n",
    "        red,blue,green=int(data.loc[data['color_name']==t]['R']),int(data.loc[data['color_name']==t]['B']),int(data.loc[data['color_name']==t]['G'])\n",
    "        cv2.putText(image, str(red) + ',' +\n",
    "                    str(green) + ',' + str(blue),\n",
    "                    (x,y), 1, 1,\n",
    "                    (255, 255, 255), 2)"
   ]
  },
  {
   "cell_type": "code",
   "execution_count": null,
   "id": "634e502b",
   "metadata": {},
   "outputs": [],
   "source": [
    "cv2.namedWindow('Image for Color Detection-Left Button Mouse Double Click') #Window name in which the image is displayed\n",
    "cv2.setMouseCallback('Image for Color Detection-Left Button Mouse Double Click',draw_function)"
   ]
  },
  {
   "cell_type": "code",
   "execution_count": null,
   "id": "2aef3b3d",
   "metadata": {},
   "outputs": [],
   "source": [
    "while(1):\n",
    "\n",
    "    cv2.imshow('Image for Color Detection-Left Button Mouse Double Click',image)\n",
    "    if (mouse_click):\n",
    "   \n",
    "        #cv2.rectangle(image, startpoint, endpoint, color, thickness)-1 fills entire rectangle \n",
    "        cv2.rectangle(image,(20,20), (750,60), (b,g,r), -1)\n",
    "\n",
    "        #Creating text string to display( Color name and RGB values )\n",
    "        text = getColorName(r,g,b) + ' R='+ str(r) +  ' G='+ str(g) +  ' B='+ str(b)\n",
    "        \n",
    "        #cv2.putText(image,text,start,font(0-7),fontScale,color,thickness,lineType )\n",
    "        cv2.putText(image, text,(50,50),2,0.8,(255,255,255),2,cv2.LINE_AA)\n",
    "\n",
    "        #For very light colours we will display text in black colour\n",
    "        if(r+g+b>=600):\n",
    "            cv2.putText(image, text,(50,50),2,0.8,(0,0,0),2,cv2.LINE_AA)\n",
    "            \n",
    "        mouse_click=False\n",
    "\n",
    "    #Break the loop when user hits 'esc' key    \n",
    "    if cv2.waitKey(20) & 0xFF ==27:\n",
    "        break\n",
    "    \n",
    "cv2.destroyAllWindows()"
   ]
  }
 ],
 "metadata": {
  "kernelspec": {
   "display_name": "Python 3 (ipykernel)",
   "language": "python",
   "name": "python3"
  },
  "language_info": {
   "codemirror_mode": {
    "name": "ipython",
    "version": 3
   },
   "file_extension": ".py",
   "mimetype": "text/x-python",
   "name": "python",
   "nbconvert_exporter": "python",
   "pygments_lexer": "ipython3",
   "version": "3.7.11"
  }
 },
 "nbformat": 4,
 "nbformat_minor": 5
}
